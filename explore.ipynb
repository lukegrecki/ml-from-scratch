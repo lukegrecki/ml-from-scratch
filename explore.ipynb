{
 "cells": [
  {
   "cell_type": "code",
   "execution_count": 27,
   "metadata": {},
   "outputs": [
    {
     "name": "stdout",
     "output_type": "stream",
     "text": [
      "The autoreload extension is already loaded. To reload it, use:\n",
      "  %reload_ext autoreload\n"
     ]
    }
   ],
   "source": [
    "%load_ext autoreload\n",
    "%autoreload 2\n",
    "from linear_regression.data import generate, plot\n",
    "from linear_regression.core import solve"
   ]
  },
  {
   "cell_type": "code",
   "execution_count": 28,
   "metadata": {},
   "outputs": [],
   "source": [
    "import logging\n",
    "logger = logging.getLogger()\n",
    "logger.setLevel(logging.INFO)"
   ]
  },
  {
   "cell_type": "code",
   "execution_count": 43,
   "metadata": {},
   "outputs": [],
   "source": [
    "data = generate(10, (0, 10), 5, (0, 3.5))"
   ]
  },
  {
   "cell_type": "code",
   "execution_count": 44,
   "metadata": {},
   "outputs": [
    {
     "data": {
      "text/plain": [
       "[(5.61, 17.92),\n",
       " (7.85, 25.08),\n",
       " (6.68, 24.2),\n",
       " (6.77, 22.99),\n",
       " (9.56, 35.63),\n",
       " (0.21, 1.73),\n",
       " (6.93, 22.88),\n",
       " (1.58, 6.77),\n",
       " (0.51, -0.71),\n",
       " (2.15, 7.98)]"
      ]
     },
     "execution_count": 44,
     "metadata": {},
     "output_type": "execute_result"
    }
   ],
   "source": [
    "data"
   ]
  },
  {
   "cell_type": "code",
   "execution_count": 45,
   "metadata": {},
   "outputs": [
    {
     "data": {
      "image/png": "[encoded data removed]",
      "text/plain": [
       "<Figure size 432x288 with 1 Axes>"
      ]
     },
     "metadata": {
      "needs_background": "light"
     },
     "output_type": "display_data"
    }
   ],
   "source": [
    "plot(data)"
   ]
  },
  {
   "cell_type": "code",
   "execution_count": 42,
   "metadata": {},
   "outputs": [
    {
     "name": "stderr",
     "output_type": "stream",
     "text": [
      "INFO:root:Current loss is 37.21727499999998\n",
      "INFO:root:Current loss is 288.0140401103464\n",
      "INFO:root:Current loss is 12818.282675700268\n",
      "INFO:root:Current loss is 636874.0732150957\n",
      "INFO:root:Current loss is 31715441.44670107\n",
      "INFO:root:Current loss is 1579455747.073399\n",
      "INFO:root:Current loss is 78658298429.37784\n",
      "INFO:root:Current loss is 3917253161807.973\n",
      "INFO:root:Current loss is 195082688608040.8\n",
      "INFO:root:Current loss is 9715291257109634.0\n"
     ]
    },
    {
     "data": {
      "text/plain": [
       "(-4910372.700363637, -34306120.291485325)"
      ]
     },
     "execution_count": 42,
     "metadata": {},
     "output_type": "execute_result"
    }
   ],
   "source": [
    "learning_rate = 0.1\n",
    "epochs = 10\n",
    "guess = (0, 3.5)\n",
    "tolerance = 0.01\n",
    "\n",
    "solve(learning_rate, epochs, guess, tolerance, data)"
   ]
  },
  {
   "cell_type": "code",
   "execution_count": null,
   "metadata": {},
   "outputs": [],
   "source": []
  }
 ],
 "metadata": {
  "kernelspec": {
   "display_name": "Python 3",
   "language": "python",
   "name": "python3"
  },
  "language_info": {
   "codemirror_mode": {
    "name": "ipython",
    "version": 3
   },
   "file_extension": ".py",
   "mimetype": "text/x-python",
   "name": "python",
   "nbconvert_exporter": "python",
   "pygments_lexer": "ipython3",
   "version": "3.8.0"
  }
 },
 "nbformat": 4,
 "nbformat_minor": 4
}
