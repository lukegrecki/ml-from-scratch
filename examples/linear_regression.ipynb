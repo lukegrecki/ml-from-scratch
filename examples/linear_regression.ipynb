{
 "cells": [
  {
   "cell_type": "code",
   "execution_count": 1,
   "metadata": {},
   "outputs": [],
   "source": [
    "%load_ext autoreload\n",
    "%autoreload 2"
   ]
  },
  {
   "cell_type": "code",
   "execution_count": 2,
   "metadata": {},
   "outputs": [
    {
     "name": "stdout",
     "output_type": "stream",
     "text": [
      "/Users/luke/Code/ml-projects/ml-from-scratch\n"
     ]
    }
   ],
   "source": [
    "cd .."
   ]
  },
  {
   "cell_type": "code",
   "execution_count": 4,
   "metadata": {},
   "outputs": [],
   "source": [
    "import matplotlib.pyplot as plt\n",
    "import numpy as np\n",
    "import algorithms.linear_regression.core as core\n",
    "import algorithms.linear_regression.io as IO\n",
    "from algorithms.linear_regression.optimization import Hyperparameters, GradientDescent, StochasticGradientDescent"
   ]
  },
  {
   "cell_type": "code",
   "execution_count": 5,
   "metadata": {},
   "outputs": [],
   "source": [
    "import logging\n",
    "\n",
    "logger = logging.getLogger()\n",
    "logger.setLevel(logging.INFO)"
   ]
  },
  {
   "cell_type": "code",
   "execution_count": 66,
   "metadata": {},
   "outputs": [],
   "source": [
    "# Analyze US population data\n",
    "\n",
    "ds = IO.read_csv(\"./data/us_population.csv\")"
   ]
  },
  {
   "cell_type": "code",
   "execution_count": 67,
   "metadata": {},
   "outputs": [
    {
     "data": {
      "text/plain": [
       "array([[1.96000000e+03, 1.80671000e+08],\n",
       "       [1.96100000e+03, 1.83691000e+08],\n",
       "       [1.96200000e+03, 1.86538000e+08],\n",
       "       [1.96300000e+03, 1.89242000e+08],\n",
       "       [1.96400000e+03, 1.91889000e+08],\n",
       "       [1.96500000e+03, 1.94303000e+08],\n",
       "       [1.96600000e+03, 1.96560000e+08],\n",
       "       [1.96700000e+03, 1.98712000e+08],\n",
       "       [1.96800000e+03, 2.00706000e+08],\n",
       "       [1.96900000e+03, 2.02677000e+08],\n",
       "       [1.97000000e+03, 2.05052000e+08],\n",
       "       [1.97100000e+03, 2.07661000e+08],\n",
       "       [1.97200000e+03, 2.09896000e+08],\n",
       "       [1.97300000e+03, 2.11909000e+08],\n",
       "       [1.97400000e+03, 2.13854000e+08],\n",
       "       [1.97500000e+03, 2.15973000e+08],\n",
       "       [1.97600000e+03, 2.18035000e+08],\n",
       "       [1.97700000e+03, 2.20239000e+08],\n",
       "       [1.97800000e+03, 2.22585000e+08],\n",
       "       [1.97900000e+03, 2.25055000e+08],\n",
       "       [1.98000000e+03, 2.27225000e+08],\n",
       "       [1.98100000e+03, 2.29466000e+08],\n",
       "       [1.98200000e+03, 2.31664000e+08],\n",
       "       [1.98300000e+03, 2.33792000e+08],\n",
       "       [1.98400000e+03, 2.35825000e+08],\n",
       "       [1.98500000e+03, 2.37924000e+08],\n",
       "       [1.98600000e+03, 2.40133000e+08],\n",
       "       [1.98700000e+03, 2.42289000e+08],\n",
       "       [1.98800000e+03, 2.44499000e+08],\n",
       "       [1.98900000e+03, 2.46819000e+08],\n",
       "       [1.99000000e+03, 2.49623000e+08],\n",
       "       [1.99100000e+03, 2.52981000e+08],\n",
       "       [1.99200000e+03, 2.56514000e+08],\n",
       "       [1.99300000e+03, 2.59919000e+08],\n",
       "       [1.99400000e+03, 2.63126000e+08],\n",
       "       [1.99500000e+03, 2.66278000e+08],\n",
       "       [1.99600000e+03, 2.69394000e+08],\n",
       "       [1.99700000e+03, 2.72657000e+08],\n",
       "       [1.99800000e+03, 2.75854000e+08],\n",
       "       [1.99900000e+03, 2.79040000e+08],\n",
       "       [2.00000000e+03, 2.82162411e+08],\n",
       "       [2.00100000e+03, 2.84968955e+08],\n",
       "       [2.00200000e+03, 2.87625193e+08],\n",
       "       [2.00300000e+03, 2.90107933e+08],\n",
       "       [2.00400000e+03, 2.92805298e+08],\n",
       "       [2.00500000e+03, 2.95516599e+08],\n",
       "       [2.00600000e+03, 2.98379912e+08],\n",
       "       [2.00700000e+03, 3.01231207e+08],\n",
       "       [2.00800000e+03, 3.04093966e+08],\n",
       "       [2.00900000e+03, 3.06771529e+08],\n",
       "       [2.01000000e+03, 3.09321666e+08],\n",
       "       [2.01100000e+03, 3.11556874e+08],\n",
       "       [2.01200000e+03, 3.13830990e+08],\n",
       "       [2.01300000e+03, 3.15993715e+08],\n",
       "       [2.01400000e+03, 3.18301008e+08],\n",
       "       [2.01500000e+03, 3.20635163e+08],\n",
       "       [2.01600000e+03, 3.22941311e+08],\n",
       "       [2.01700000e+03, 3.24985539e+08],\n",
       "       [2.01800000e+03, 3.26687501e+08],\n",
       "       [2.01900000e+03, 3.28239523e+08]])"
      ]
     },
     "execution_count": 67,
     "metadata": {},
     "output_type": "execute_result"
    }
   ],
   "source": [
    "ds"
   ]
  },
  {
   "cell_type": "code",
   "execution_count": 68,
   "metadata": {},
   "outputs": [
    {
     "data": {
      "text/plain": [
       "[<matplotlib.lines.Line2D at 0x13b9cd280>]"
      ]
     },
     "execution_count": 68,
     "metadata": {},
     "output_type": "execute_result"
    },
    {
     "data": {
      "image/png": "[encoded data removed]",
      "text/plain": [
       "<Figure size 432x288 with 1 Axes>"
      ]
     },
     "metadata": {
      "needs_background": "light"
     },
     "output_type": "display_data"
    }
   ],
   "source": [
    "plt.plot(ds[:, 0], ds[:, 1])"
   ]
  },
  {
   "cell_type": "code",
   "execution_count": 69,
   "metadata": {},
   "outputs": [],
   "source": [
    "normalized_ds = np.column_stack((ds[:, 0] - 1960.0, ds[:, 1] / ds[:, 1].max()))"
   ]
  },
  {
   "cell_type": "code",
   "execution_count": 70,
   "metadata": {},
   "outputs": [
    {
     "data": {
      "text/plain": [
       "array([[ 0.        ,  0.55042427],\n",
       "       [ 1.        ,  0.55962487],\n",
       "       [ 2.        ,  0.56829841],\n",
       "       [ 3.        ,  0.5765363 ],\n",
       "       [ 4.        ,  0.58460053],\n",
       "       [ 5.        ,  0.59195492],\n",
       "       [ 6.        ,  0.59883099],\n",
       "       [ 7.        ,  0.60538718],\n",
       "       [ 8.        ,  0.61146201],\n",
       "       [ 9.        ,  0.61746678],\n",
       "       [10.        ,  0.62470235],\n",
       "       [11.        ,  0.63265081],\n",
       "       [12.        ,  0.63945986],\n",
       "       [13.        ,  0.64559258],\n",
       "       [14.        ,  0.65151813],\n",
       "       [15.        ,  0.65797378],\n",
       "       [16.        ,  0.66425578],\n",
       "       [17.        ,  0.67097039],\n",
       "       [18.        ,  0.67811761],\n",
       "       [19.        ,  0.6856426 ],\n",
       "       [20.        ,  0.69225363],\n",
       "       [21.        ,  0.69908096],\n",
       "       [22.        ,  0.70577729],\n",
       "       [23.        ,  0.71226036],\n",
       "       [24.        ,  0.71845401],\n",
       "       [25.        ,  0.72484873],\n",
       "       [26.        ,  0.73157857],\n",
       "       [27.        ,  0.73814694],\n",
       "       [28.        ,  0.74487983],\n",
       "       [29.        ,  0.75194784],\n",
       "       [30.        ,  0.76049038],\n",
       "       [31.        ,  0.77072072],\n",
       "       [32.        ,  0.7814842 ],\n",
       "       [33.        ,  0.79185772],\n",
       "       [34.        ,  0.80162802],\n",
       "       [35.        ,  0.81123077],\n",
       "       [36.        ,  0.82072383],\n",
       "       [37.        ,  0.83066475],\n",
       "       [38.        ,  0.84040458],\n",
       "       [39.        ,  0.85011091],\n",
       "       [40.        ,  0.85962351],\n",
       "       [41.        ,  0.8681738 ],\n",
       "       [42.        ,  0.87626618],\n",
       "       [43.        ,  0.88382999],\n",
       "       [44.        ,  0.89204766],\n",
       "       [45.        ,  0.90030779],\n",
       "       [46.        ,  0.90903103],\n",
       "       [47.        ,  0.91771766],\n",
       "       [48.        ,  0.92643921],\n",
       "       [49.        ,  0.93459656],\n",
       "       [50.        ,  0.94236569],\n",
       "       [51.        ,  0.94917538],\n",
       "       [52.        ,  0.9561036 ],\n",
       "       [53.        ,  0.96269246],\n",
       "       [54.        ,  0.96972176],\n",
       "       [55.        ,  0.97683289],\n",
       "       [56.        ,  0.9838587 ],\n",
       "       [57.        ,  0.99008656],\n",
       "       [58.        ,  0.99527168],\n",
       "       [59.        ,  1.        ]])"
      ]
     },
     "execution_count": 70,
     "metadata": {},
     "output_type": "execute_result"
    }
   ],
   "source": [
    "normalized_ds"
   ]
  },
  {
   "cell_type": "code",
   "execution_count": 71,
   "metadata": {},
   "outputs": [
    {
     "data": {
      "text/plain": [
       "[<matplotlib.lines.Line2D at 0x13ba22ca0>]"
      ]
     },
     "execution_count": 71,
     "metadata": {},
     "output_type": "execute_result"
    },
    {
     "data": {
      "image/png": "[encoded data removed]",
      "text/plain": [
       "<Figure size 432x288 with 1 Axes>"
      ]
     },
     "metadata": {
      "needs_background": "light"
     },
     "output_type": "display_data"
    }
   ],
   "source": [
    "plt.plot(normalized_ds[:, 0], normalized_ds[:, 1])"
   ]
  },
  {
   "cell_type": "code",
   "execution_count": 72,
   "metadata": {},
   "outputs": [],
   "source": [
    "learning_rate = 0.0005\n",
    "epochs = 20000\n",
    "initial_model = core.ModelParameters(m=0.16, b=0)\n",
    "tolerance = 0.0001\n",
    "hyperparameters = Hyperparameters(learning_rate, tolerance, epochs, initial_model)\n",
    "gd = GradientDescent(hyperparameters)\n",
    "sgd = StochasticGradientDescent(hyperparameters)"
   ]
  },
  {
   "cell_type": "code",
   "execution_count": 73,
   "metadata": {},
   "outputs": [
    {
     "name": "stderr",
     "output_type": "stream",
     "text": [
      "INFO:root:Training epoch 0...\n",
      "INFO:root:Loss in current epoch is 22.523401402841035\n",
      "INFO:root:Training epoch 2000...\n",
      "INFO:root:Loss in current epoch is 0.02748108809728378\n",
      "INFO:root:Training epoch 4000...\n",
      "INFO:root:Loss in current epoch is 0.00990631479175994\n",
      "INFO:root:Training epoch 6000...\n",
      "INFO:root:Loss in current epoch is 0.0035985932996669572\n",
      "INFO:root:Training epoch 8000...\n",
      "INFO:root:Loss in current epoch is 0.0013347034770138037\n",
      "INFO:root:Training epoch 10000...\n",
      "INFO:root:Loss in current epoch is 0.0005221759842357526\n",
      "INFO:root:Training epoch 12000...\n",
      "INFO:root:Loss in current epoch is 0.00023055360936840127\n",
      "INFO:root:Training epoch 14000...\n",
      "INFO:root:Loss in current epoch is 0.00012588809308841992\n",
      "INFO:root:Solution found with loss 9.998340519523822e-05\n"
     ]
    }
   ],
   "source": [
    "gd_solution = gd.solve(normalized_ds)"
   ]
  },
  {
   "cell_type": "code",
   "execution_count": 74,
   "metadata": {},
   "outputs": [
    {
     "name": "stderr",
     "output_type": "stream",
     "text": [
      "INFO:root:Training epoch 0...\n",
      "INFO:root:Loss in current epoch is 0.07904251582622089\n",
      "INFO:root:Solution found with loss 9.279377121726945e-05\n"
     ]
    }
   ],
   "source": [
    "sgd_solution = sgd.solve(normalized_ds)"
   ]
  },
  {
   "cell_type": "code",
   "execution_count": 75,
   "metadata": {},
   "outputs": [
    {
     "name": "stdout",
     "output_type": "stream",
     "text": [
      "Solution(model_parameters=ModelParameters(m=0.008105848084828443, b=0.5311206444380767), loss=9.998340519523822e-05)\n",
      "Solution(model_parameters=ModelParameters(m=0.00799835382368164, b=0.5331751236310834), loss=9.279377121726945e-05)\n"
     ]
    }
   ],
   "source": [
    "print(gd_solution)\n",
    "print(sgd_solution)"
   ]
  },
  {
   "cell_type": "code",
   "execution_count": 76,
   "metadata": {},
   "outputs": [
    {
     "data": {
      "text/plain": [
       "[<matplotlib.lines.Line2D at 0x13ba88a90>]"
      ]
     },
     "execution_count": 76,
     "metadata": {},
     "output_type": "execute_result"
    },
    {
     "data": {
      "image/png": "[encoded data removed]",
      "text/plain": [
       "<Figure size 432x288 with 1 Axes>"
      ]
     },
     "metadata": {
      "needs_background": "light"
     },
     "output_type": "display_data"
    }
   ],
   "source": [
    "gd_predictions = core.predict(normalized_ds, gd_solution.model_parameters)\n",
    "sgd_predictions = core.predict(normalized_ds, sgd_solution.model_parameters)\n",
    "plt.plot(gd_predictions[:, 0], gd_predictions[:, 1], marker='x')\n",
    "plt.plot(sgd_predictions[:, 0], sgd_predictions[:, 1], marker='x')\n",
    "plt.plot(normalized_ds[:, 0], normalized_ds[:, 1], marker='o')"
   ]
  },
  {
   "cell_type": "code",
   "execution_count": 77,
   "metadata": {},
   "outputs": [],
   "source": [
    "scaled_predictions = np.column_stack((gd_predictions[:, 0] + 1960.0, gd_predictions[:, 1] * ds[:, 1].max()))"
   ]
  },
  {
   "cell_type": "code",
   "execution_count": 78,
   "metadata": {},
   "outputs": [
    {
     "data": {
      "text/plain": [
       "array([[1.96000000e+03, 1.74334787e+08],\n",
       "       [1.96100000e+03, 1.76995447e+08],\n",
       "       [1.96200000e+03, 1.79656106e+08],\n",
       "       [1.96300000e+03, 1.82316766e+08],\n",
       "       [1.96400000e+03, 1.84977426e+08],\n",
       "       [1.96500000e+03, 1.87638086e+08],\n",
       "       [1.96600000e+03, 1.90298745e+08],\n",
       "       [1.96700000e+03, 1.92959405e+08],\n",
       "       [1.96800000e+03, 1.95620065e+08],\n",
       "       [1.96900000e+03, 1.98280724e+08],\n",
       "       [1.97000000e+03, 2.00941384e+08],\n",
       "       [1.97100000e+03, 2.03602044e+08],\n",
       "       [1.97200000e+03, 2.06262703e+08],\n",
       "       [1.97300000e+03, 2.08923363e+08],\n",
       "       [1.97400000e+03, 2.11584023e+08],\n",
       "       [1.97500000e+03, 2.14244683e+08],\n",
       "       [1.97600000e+03, 2.16905342e+08],\n",
       "       [1.97700000e+03, 2.19566002e+08],\n",
       "       [1.97800000e+03, 2.22226662e+08],\n",
       "       [1.97900000e+03, 2.24887321e+08],\n",
       "       [1.98000000e+03, 2.27547981e+08],\n",
       "       [1.98100000e+03, 2.30208641e+08],\n",
       "       [1.98200000e+03, 2.32869301e+08],\n",
       "       [1.98300000e+03, 2.35529960e+08],\n",
       "       [1.98400000e+03, 2.38190620e+08],\n",
       "       [1.98500000e+03, 2.40851280e+08],\n",
       "       [1.98600000e+03, 2.43511939e+08],\n",
       "       [1.98700000e+03, 2.46172599e+08],\n",
       "       [1.98800000e+03, 2.48833259e+08],\n",
       "       [1.98900000e+03, 2.51493919e+08],\n",
       "       [1.99000000e+03, 2.54154578e+08],\n",
       "       [1.99100000e+03, 2.56815238e+08],\n",
       "       [1.99200000e+03, 2.59475898e+08],\n",
       "       [1.99300000e+03, 2.62136557e+08],\n",
       "       [1.99400000e+03, 2.64797217e+08],\n",
       "       [1.99500000e+03, 2.67457877e+08],\n",
       "       [1.99600000e+03, 2.70118537e+08],\n",
       "       [1.99700000e+03, 2.72779196e+08],\n",
       "       [1.99800000e+03, 2.75439856e+08],\n",
       "       [1.99900000e+03, 2.78100516e+08],\n",
       "       [2.00000000e+03, 2.80761175e+08],\n",
       "       [2.00100000e+03, 2.83421835e+08],\n",
       "       [2.00200000e+03, 2.86082495e+08],\n",
       "       [2.00300000e+03, 2.88743154e+08],\n",
       "       [2.00400000e+03, 2.91403814e+08],\n",
       "       [2.00500000e+03, 2.94064474e+08],\n",
       "       [2.00600000e+03, 2.96725134e+08],\n",
       "       [2.00700000e+03, 2.99385793e+08],\n",
       "       [2.00800000e+03, 3.02046453e+08],\n",
       "       [2.00900000e+03, 3.04707113e+08],\n",
       "       [2.01000000e+03, 3.07367772e+08],\n",
       "       [2.01100000e+03, 3.10028432e+08],\n",
       "       [2.01200000e+03, 3.12689092e+08],\n",
       "       [2.01300000e+03, 3.15349752e+08],\n",
       "       [2.01400000e+03, 3.18010411e+08],\n",
       "       [2.01500000e+03, 3.20671071e+08],\n",
       "       [2.01600000e+03, 3.23331731e+08],\n",
       "       [2.01700000e+03, 3.25992390e+08],\n",
       "       [2.01800000e+03, 3.28653050e+08],\n",
       "       [2.01900000e+03, 3.31313710e+08]])"
      ]
     },
     "execution_count": 78,
     "metadata": {},
     "output_type": "execute_result"
    }
   ],
   "source": [
    "scaled_predictions"
   ]
  },
  {
   "cell_type": "code",
   "execution_count": 79,
   "metadata": {},
   "outputs": [
    {
     "data": {
      "text/plain": [
       "[<matplotlib.lines.Line2D at 0x13baea490>]"
      ]
     },
     "execution_count": 79,
     "metadata": {},
     "output_type": "execute_result"
    },
    {
     "data": {
      "image/png": "[encoded data removed]",
      "text/plain": [
       "<Figure size 432x288 with 1 Axes>"
      ]
     },
     "metadata": {
      "needs_background": "light"
     },
     "output_type": "display_data"
    }
   ],
   "source": [
    "plt.plot(scaled_predictions[:, 0], scaled_predictions[:, 1], marker='x')\n",
    "plt.plot(ds[:, 0], ds[:, 1], marker='o')"
   ]
  },
  {
   "cell_type": "code",
   "execution_count": 80,
   "metadata": {},
   "outputs": [],
   "source": [
    "next_year_population = (core.predict(np.array([[61.0]]), gd_solution.model_parameters) * ds[:, 1].max())[:, 1][0]"
   ]
  },
  {
   "cell_type": "code",
   "execution_count": 81,
   "metadata": {},
   "outputs": [
    {
     "data": {
      "text/plain": [
       "336635029.22715455"
      ]
     },
     "execution_count": 81,
     "metadata": {},
     "output_type": "execute_result"
    }
   ],
   "source": [
    "next_year_population"
   ]
  },
  {
   "cell_type": "code",
   "execution_count": 82,
   "metadata": {},
   "outputs": [
    {
     "data": {
      "text/plain": [
       "'336,635,029.22715455'"
      ]
     },
     "execution_count": 82,
     "metadata": {},
     "output_type": "execute_result"
    }
   ],
   "source": [
    "f'{next_year_population:,}'"
   ]
  },
  {
   "cell_type": "code",
   "execution_count": 83,
   "metadata": {},
   "outputs": [
    {
     "data": {
      "text/plain": [
       "'8,395,506.227154553'"
      ]
     },
     "execution_count": 83,
     "metadata": {},
     "output_type": "execute_result"
    }
   ],
   "source": [
    "growth = next_year_population - ds[-1, 1]\n",
    "f'{growth:,}'"
   ]
  },
  {
   "cell_type": "code",
   "execution_count": 84,
   "metadata": {},
   "outputs": [],
   "source": [
    "# Analyze world poverty data\n",
    "\n",
    "ds = IO.read_csv(\"./data/world_poverty.csv\")"
   ]
  },
  {
   "cell_type": "code",
   "execution_count": 85,
   "metadata": {},
   "outputs": [
    {
     "data": {
      "text/plain": [
       "array([[1981. ,   42.5],\n",
       "       [1982. ,   42.1],\n",
       "       [1983. ,   41.2],\n",
       "       [1984. ,   39.6],\n",
       "       [1985. ,   38. ],\n",
       "       [1986. ,   36.7],\n",
       "       [1987. ,   35.7],\n",
       "       [1988. ,   33.6],\n",
       "       [1989. ,   36.8],\n",
       "       [1990. ,   36.2],\n",
       "       [1991. ,   36.1],\n",
       "       [1992. ,   35.1],\n",
       "       [1993. ,   34.3],\n",
       "       [1994. ,   33.2],\n",
       "       [1995. ,   31.3],\n",
       "       [1996. ,   29.7],\n",
       "       [1997. ,   29.6],\n",
       "       [1998. ,   30. ],\n",
       "       [1999. ,   28.9],\n",
       "       [2000. ,   27.7],\n",
       "       [2001. ,   26.9],\n",
       "       [2002. ,   25.7],\n",
       "       [2003. ,   24.7],\n",
       "       [2004. ,   22.9],\n",
       "       [2005. ,   20.9],\n",
       "       [2006. ,   20.3],\n",
       "       [2007. ,   19.1],\n",
       "       [2008. ,   18.4],\n",
       "       [2009. ,   17.6],\n",
       "       [2010. ,   16. ],\n",
       "       [2011. ,   13.8],\n",
       "       [2012. ,   12.9],\n",
       "       [2013. ,   11.3],\n",
       "       [2014. ,   10.7],\n",
       "       [2015. ,   10.1],\n",
       "       [2016. ,    9.7],\n",
       "       [2017. ,    9.2]])"
      ]
     },
     "execution_count": 85,
     "metadata": {},
     "output_type": "execute_result"
    }
   ],
   "source": [
    "ds"
   ]
  },
  {
   "cell_type": "code",
   "execution_count": 86,
   "metadata": {},
   "outputs": [
    {
     "data": {
      "text/plain": [
       "[<matplotlib.lines.Line2D at 0x13bb4d310>]"
      ]
     },
     "execution_count": 86,
     "metadata": {},
     "output_type": "execute_result"
    },
    {
     "data": {
      "image/png": "[encoded data removed]",
      "text/plain": [
       "<Figure size 432x288 with 1 Axes>"
      ]
     },
     "metadata": {
      "needs_background": "light"
     },
     "output_type": "display_data"
    }
   ],
   "source": [
    "plt.plot(ds[:, 0], ds[:, 1])"
   ]
  },
  {
   "cell_type": "code",
   "execution_count": 87,
   "metadata": {},
   "outputs": [],
   "source": [
    "normalized_ds = np.column_stack((ds[:, 0] - 1981.0, ds[:, 1] / ds[:, 1].max()))"
   ]
  },
  {
   "cell_type": "code",
   "execution_count": 88,
   "metadata": {},
   "outputs": [
    {
     "data": {
      "text/plain": [
       "array([[ 0.        ,  1.        ],\n",
       "       [ 1.        ,  0.99058824],\n",
       "       [ 2.        ,  0.96941176],\n",
       "       [ 3.        ,  0.93176471],\n",
       "       [ 4.        ,  0.89411765],\n",
       "       [ 5.        ,  0.86352941],\n",
       "       [ 6.        ,  0.84      ],\n",
       "       [ 7.        ,  0.79058824],\n",
       "       [ 8.        ,  0.86588235],\n",
       "       [ 9.        ,  0.85176471],\n",
       "       [10.        ,  0.84941176],\n",
       "       [11.        ,  0.82588235],\n",
       "       [12.        ,  0.80705882],\n",
       "       [13.        ,  0.78117647],\n",
       "       [14.        ,  0.73647059],\n",
       "       [15.        ,  0.69882353],\n",
       "       [16.        ,  0.69647059],\n",
       "       [17.        ,  0.70588235],\n",
       "       [18.        ,  0.68      ],\n",
       "       [19.        ,  0.65176471],\n",
       "       [20.        ,  0.63294118],\n",
       "       [21.        ,  0.60470588],\n",
       "       [22.        ,  0.58117647],\n",
       "       [23.        ,  0.53882353],\n",
       "       [24.        ,  0.49176471],\n",
       "       [25.        ,  0.47764706],\n",
       "       [26.        ,  0.44941176],\n",
       "       [27.        ,  0.43294118],\n",
       "       [28.        ,  0.41411765],\n",
       "       [29.        ,  0.37647059],\n",
       "       [30.        ,  0.32470588],\n",
       "       [31.        ,  0.30352941],\n",
       "       [32.        ,  0.26588235],\n",
       "       [33.        ,  0.25176471],\n",
       "       [34.        ,  0.23764706],\n",
       "       [35.        ,  0.22823529],\n",
       "       [36.        ,  0.21647059]])"
      ]
     },
     "execution_count": 88,
     "metadata": {},
     "output_type": "execute_result"
    }
   ],
   "source": [
    "normalized_ds"
   ]
  },
  {
   "cell_type": "code",
   "execution_count": 89,
   "metadata": {},
   "outputs": [
    {
     "data": {
      "text/plain": [
       "[<matplotlib.lines.Line2D at 0x13bba14f0>]"
      ]
     },
     "execution_count": 89,
     "metadata": {},
     "output_type": "execute_result"
    },
    {
     "data": {
      "image/png": "[encoded data removed]",
      "text/plain": [
       "<Figure size 432x288 with 1 Axes>"
      ]
     },
     "metadata": {
      "needs_background": "light"
     },
     "output_type": "display_data"
    }
   ],
   "source": [
    "plt.plot(normalized_ds[:, 0], normalized_ds[:, 1])"
   ]
  },
  {
   "cell_type": "code",
   "execution_count": 90,
   "metadata": {},
   "outputs": [],
   "source": [
    "learning_rate = 0.0003\n",
    "epochs = 40000\n",
    "initial_model = core.ModelParameters(m=-0.028, b=1.0)\n",
    "tolerance = 0.0014\n",
    "hyperparameters = Hyperparameters(learning_rate, tolerance, epochs, initial_model)\n",
    "gd = GradientDescent(hyperparameters)\n",
    "sgd = StochasticGradientDescent(hyperparameters)"
   ]
  },
  {
   "cell_type": "code",
   "execution_count": 91,
   "metadata": {},
   "outputs": [
    {
     "name": "stderr",
     "output_type": "stream",
     "text": [
      "INFO:root:Training epoch 0...\n",
      "INFO:root:Loss in current epoch is 0.02267966856822221\n",
      "INFO:root:Training epoch 4000...\n",
      "INFO:root:Loss in current epoch is 0.001401365982651938\n",
      "INFO:root:Solution found with loss 0.001399985473721882\n"
     ]
    }
   ],
   "source": [
    "gd_solution = gd.solve(normalized_ds)"
   ]
  },
  {
   "cell_type": "code",
   "execution_count": 92,
   "metadata": {},
   "outputs": [
    {
     "name": "stderr",
     "output_type": "stream",
     "text": [
      "INFO:root:Training epoch 0...\n",
      "INFO:root:Loss in current epoch is 0.0017223119977763511\n",
      "INFO:root:Solution found with loss 0.0013931093919738182\n"
     ]
    }
   ],
   "source": [
    "sgd_solution = sgd.solve(normalized_ds)"
   ]
  },
  {
   "cell_type": "code",
   "execution_count": 93,
   "metadata": {},
   "outputs": [
    {
     "data": {
      "text/plain": [
       "[<matplotlib.lines.Line2D at 0x13bc0d160>]"
      ]
     },
     "execution_count": 93,
     "metadata": {},
     "output_type": "execute_result"
    },
    {
     "data": {
      "image/png": "[encoded data removed]",
      "text/plain": [
       "<Figure size 432x288 with 1 Axes>"
      ]
     },
     "metadata": {
      "needs_background": "light"
     },
     "output_type": "display_data"
    }
   ],
   "source": [
    "gd_predictions = core.predict(normalized_ds, gd_solution.model_parameters)\n",
    "sgd_predictions = core.predict(normalized_ds, sgd_solution.model_parameters)\n",
    "plt.plot(gd_predictions[:, 0], gd_predictions[:, 1], marker='x')\n",
    "plt.plot(sgd_predictions[:, 0], sgd_predictions[:, 1], marker='x')\n",
    "plt.plot(normalized_ds[:, 0], normalized_ds[:, 1], marker='o')"
   ]
  },
  {
   "cell_type": "code",
   "execution_count": 94,
   "metadata": {},
   "outputs": [],
   "source": [
    "scaled_predictions = np.column_stack((gd_predictions[:, 0] + 1981.0, gd_predictions[:, 1] * ds[:, 1].max()))"
   ]
  },
  {
   "cell_type": "code",
   "execution_count": 95,
   "metadata": {},
   "outputs": [
    {
     "data": {
      "text/plain": [
       "[<matplotlib.lines.Line2D at 0x13b6559a0>]"
      ]
     },
     "execution_count": 95,
     "metadata": {},
     "output_type": "execute_result"
    },
    {
     "data": {
      "image/png": "[encoded data removed]",
      "text/plain": [
       "<Figure size 432x288 with 1 Axes>"
      ]
     },
     "metadata": {
      "needs_background": "light"
     },
     "output_type": "display_data"
    }
   ],
   "source": [
    "plt.plot(scaled_predictions[:, 0], scaled_predictions[:, 1], marker='x')\n",
    "plt.plot(ds[:, 0], ds[:, 1], marker='o')"
   ]
  }
 ],
 "metadata": {
  "kernelspec": {
   "display_name": "Python 3",
   "language": "python",
   "name": "python3"
  },
  "language_info": {
   "codemirror_mode": {
    "name": "ipython",
    "version": 3
   },
   "file_extension": ".py",
   "mimetype": "text/x-python",
   "name": "python",
   "nbconvert_exporter": "python",
   "pygments_lexer": "ipython3",
   "version": "3.8.0"
  }
 },
 "nbformat": 4,
 "nbformat_minor": 4
}
